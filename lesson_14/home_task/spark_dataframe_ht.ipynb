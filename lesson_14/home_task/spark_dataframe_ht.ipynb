{
 "cells": [
  {
   "cell_type": "code",
   "execution_count": 1,
   "metadata": {
    "collapsed": true
   },
   "outputs": [],
   "source": [
    "from pyspark.sql import SparkSession, functions as f, types as t"
   ]
  },
  {
   "cell_type": "code",
   "execution_count": 2,
   "outputs": [
    {
     "name": "stderr",
     "output_type": "stream",
     "text": [
      "Setting default log level to \"WARN\".\n",
      "To adjust logging level use sc.setLogLevel(newLevel). For SparkR, use setLogLevel(newLevel).\n"
     ]
    },
    {
     "name": "stdout",
     "output_type": "stream",
     "text": [
      "23/02/20 19:24:03 WARN NativeCodeLoader: Unable to load native-hadoop library for your platform... using builtin-java classes where applicable\n"
     ]
    }
   ],
   "source": [
    "spark = SparkSession.builder.master('local[3]').getOrCreate()"
   ],
   "metadata": {
    "collapsed": false
   }
  },
  {
   "cell_type": "code",
   "execution_count": 3,
   "outputs": [
    {
     "name": "stdout",
     "output_type": "stream",
     "text": [
      "3.3.0\n"
     ]
    }
   ],
   "source": [
    "print(spark.version)"
   ],
   "metadata": {
    "collapsed": false
   }
  },
  {
   "cell_type": "code",
   "execution_count": 4,
   "outputs": [],
   "source": [
    "actor_df = spark.read.csv('./data/actor.csv', header=True, inferSchema=True)\n",
    "address_df = spark.read.csv('./data/address.csv', header=True, inferSchema=True)\n",
    "category_df = spark.read.csv('./data/category.csv', header=True, inferSchema=True)\n",
    "city_df = spark.read.csv('./data/city.csv', header=True, inferSchema=True)\n",
    "country_df = spark.read.csv('./data/country.csv', header=True, inferSchema=True)\n",
    "customer_df = spark.read.csv('./data/customer.csv', header=True, inferSchema=True)\n",
    "film_df = spark.read.csv('./data/film.csv', header=True, inferSchema=True)\n",
    "film_actor_df = spark.read.csv('./data/film_actor.csv', header=True, inferSchema=True)\n",
    "film_category_df = spark.read.csv('./data/film_category.csv', header=True, inferSchema=True)\n",
    "inventory_df = spark.read.csv('./data/inventory.csv', header=True, inferSchema=True)\n",
    "language_df = spark.read.csv('./data/language.csv', header=True, inferSchema=True)\n",
    "payment_df = spark.read.csv('./data/payment.csv', header=True, inferSchema=True)\n",
    "rental_df = spark.read.csv('./data/rental.csv', header=True, inferSchema=True)\n",
    "staff_df = spark.read.csv('./data/staff.csv', header=True, inferSchema=True)\n",
    "store_df = spark.read.csv('./data/store.csv', header=True, inferSchema=True)"
   ],
   "metadata": {
    "collapsed": false
   }
  },
  {
   "cell_type": "markdown",
   "source": [
    "# Домашнє завдання на тему Spark SQL\n",
    "\n",
    "Задачі з домашнього завдання на SQL потрібно розвʼязати за допомогою Spark SQL DataFrame API.\n",
    "\n",
    "- Дампи таблиць знаходяться в папці `data`. Датафрейми таблиць вже створені в клітинці вище.\n",
    "- Можете створювати стільки нових клітинок, скільки вам необхідно.\n",
    "- Розвʼязок кожної задачі має бути відображений в самому файлі (використати метод `.show()`)\n",
    "- код має бути оформлений у відповідності із одним із стилем, показаним лектором на занятті 13.\n",
    "\n",
    "**Увага!**\n",
    "Використовувати мову запитів SQL безпосередньо забороняється, потрібно використовувати виключно DataFrame API!\n"
   ],
   "metadata": {
    "collapsed": false
   }
  },
  {
   "cell_type": "markdown",
   "source": [
    "1.\n",
    "Вивести кількість фільмів в кожній категорії.\n",
    "Результат відсортувати за спаданням."
   ],
   "metadata": {
    "collapsed": false
   }
  },
  {
   "cell_type": "code",
   "execution_count": 34,
   "outputs": [
    {
     "name": "stdout",
     "output_type": "stream",
     "text": [
      "+-----------+-----------+\n",
      "|       name|count_films|\n",
      "+-----------+-----------+\n",
      "|     Sports|         74|\n",
      "|    Foreign|         73|\n",
      "|     Family|         69|\n",
      "|Documentary|         68|\n",
      "|  Animation|         66|\n",
      "|     Action|         64|\n",
      "|        New|         63|\n",
      "|      Drama|         62|\n",
      "|      Games|         61|\n",
      "|     Sci-Fi|         61|\n",
      "|   Children|         60|\n",
      "|     Comedy|         58|\n",
      "|     Travel|         57|\n",
      "|   Classics|         57|\n",
      "|     Horror|         56|\n",
      "|      Music|         51|\n",
      "+-----------+-----------+\n",
      "\n"
     ]
    }
   ],
   "source": [
    "category_df.join(\n",
    "    film_category_df,\n",
    "    \"category_id\",\n",
    "    \"inner\"\n",
    ").join(\n",
    "    film_df,\n",
    "    \"film_id\",\n",
    "    \"inner\"\n",
    ").select(\n",
    "    \"name\"\n",
    ").groupBy(\n",
    "    \"name\"\n",
    ").agg(\n",
    "    f.count(\"name\").alias('count_films')\n",
    ").orderBy(\n",
    "    f.desc(\"count_films\")\n",
    ").show()"
   ],
   "metadata": {
    "collapsed": false
   }
  },
  {
   "cell_type": "markdown",
   "source": [
    "2.\n",
    "Вивести 10 акторів, чиї фільми брали на прокат найбільше.\n",
    "Результат відсортувати за спаданням."
   ],
   "metadata": {
    "collapsed": false
   }
  },
  {
   "cell_type": "code",
   "execution_count": 50,
   "outputs": [
    {
     "name": "stdout",
     "output_type": "stream",
     "text": [
      "+-----------------+-----------+\n",
      "|           actors|films_count|\n",
      "+-----------------+-----------+\n",
      "|      HACKMAN TIM|         34|\n",
      "|     PHOENIX GARY|         34|\n",
      "|      TEMPLE BURT|         34|\n",
      "|   AKROYD KIRSTEN|         34|\n",
      "|   DENCH CHARLIZE|         34|\n",
      "|     CRAWFORD RIP|         34|\n",
      "|      MIRANDA TOM|         33|\n",
      "|      ALLEN MERYL|         33|\n",
      "|        DEAN JUDY|         33|\n",
      "|SILVERSTONE JAYNE|         33|\n",
      "+-----------------+-----------+\n",
      "\n"
     ]
    }
   ],
   "source": [
    "actor_df.join(\n",
    "    film_actor_df,\n",
    "    \"actor_id\",\n",
    "    \"inner\"\n",
    ").join(\n",
    "    inventory_df.join(\n",
    "        rental_df,\n",
    "        \"inventory_id\",\n",
    "        \"inner\"\n",
    "    ).select(\n",
    "        \"film_id\"\n",
    "    ).groupBy(\n",
    "        \"film_id\"\n",
    "    ).agg(\n",
    "        f.count(\"film_id\").alias(\"films_count\")\n",
    "    ),\n",
    "    \"film_id\",\n",
    "    \"inner\"\n",
    ").select(\n",
    "    f.concat(\n",
    "        'last_name', f.lit(' ') ,'first_name'\n",
    "    ).alias(\"actors\"),\n",
    "    \"films_count\"\n",
    ").orderBy(\n",
    "    f.desc(\"films_count\")\n",
    ").limit(\n",
    "    10\n",
    ").show()\n"
   ],
   "metadata": {
    "collapsed": false
   }
  },
  {
   "cell_type": "markdown",
   "source": [
    "3.\n",
    "Вивести категорія фільмів, на яку було витрачено найбільше грошей\n",
    "в прокаті"
   ],
   "metadata": {
    "collapsed": false
   }
  },
  {
   "cell_type": "code",
   "execution_count": 210,
   "outputs": [
    {
     "name": "stdout",
     "output_type": "stream",
     "text": [
      "+-------------+\n",
      "|category_name|\n",
      "+-------------+\n",
      "|       Sports|\n",
      "+-------------+\n",
      "\n"
     ]
    }
   ],
   "source": [
    "category_df.join(\n",
    "    film_category_df,\n",
    "    \"category_id\",\n",
    "    \"inner\"\n",
    ").join(\n",
    "    inventory_df,\n",
    "    \"film_id\",\n",
    "    \"inner\"\n",
    ").join(\n",
    "    rental_df,\n",
    "    \"inventory_id\",\n",
    "    \"inner\"\n",
    ").join(\n",
    "    payment_df,\n",
    "    \"rental_id\",\n",
    "    \"inner\"\n",
    ").select(\n",
    "    f.col(\"name\").alias(\"category_name\"),\n",
    "    \"amount\"\n",
    ").groupBy(\n",
    "        \"category_name\"\n",
    ").agg(\n",
    "    f.sum(\n",
    "        f.round(\"amount\")\n",
    "    ).alias(\"category_sum_amount\")\n",
    ").orderBy(\n",
    "    f.desc(\"category_sum_amount\")\n",
    ").limit(\n",
    "    1\n",
    ").select(\n",
    "    \"category_name\"\n",
    ").show()"
   ],
   "metadata": {
    "collapsed": false
   }
  },
  {
   "cell_type": "markdown",
   "source": [
    "4.\n",
    "Вивести назви фільмів, яких не має в inventory."
   ],
   "metadata": {
    "collapsed": false
   }
  },
  {
   "cell_type": "code",
   "execution_count": 142,
   "outputs": [
    {
     "name": "stdout",
     "output_type": "stream",
     "text": [
      "+--------------------+\n",
      "|               title|\n",
      "+--------------------+\n",
      "|      ALICE FANTASIA|\n",
      "|         APOLLO TEEN|\n",
      "|      ARGONAUTS TOWN|\n",
      "|       ARK RIDGEMONT|\n",
      "|ARSENIC INDEPENDENCE|\n",
      "|   BOONDOCK BALLROOM|\n",
      "|       BUTCH PANTHER|\n",
      "|       CATCH AMISTAD|\n",
      "| CHINATOWN GLADIATOR|\n",
      "|      CHOCOLATE DUCK|\n",
      "|COMMANDMENTS EXPRESS|\n",
      "|    CROSSING DIVORCE|\n",
      "|     CROWDS TELEMARK|\n",
      "|    CRYSTAL BREAKING|\n",
      "|          DAZED PUNK|\n",
      "|DELIVERANCE MULHO...|\n",
      "|   FIREHOUSE VIETNAM|\n",
      "|       FLOATS GARDEN|\n",
      "|FRANKENSTEIN STRA...|\n",
      "|  GLADIATOR WESTWARD|\n",
      "+--------------------+\n",
      "only showing top 20 rows\n",
      "\n"
     ]
    }
   ],
   "source": [
    "film_df.join(\n",
    "    inventory_df,\n",
    "    \"film_id\",\n",
    "    \"left\"\n",
    ").select(\n",
    "    \"title\"\n",
    ").where(\n",
    "    f.col(\"inventory_id\").isNull() == True\n",
    ").show()"
   ],
   "metadata": {
    "collapsed": false
   }
  },
  {
   "cell_type": "markdown",
   "source": [
    "5.\n",
    "Вивести топ 3 актори, які найбільше зʼявлялись в категорії фільмів “Children”"
   ],
   "metadata": {
    "collapsed": false
   }
  },
  {
   "cell_type": "code",
   "execution_count": 170,
   "outputs": [
    {
     "name": "stdout",
     "output_type": "stream",
     "text": [
      "+------------+\n",
      "|      actors|\n",
      "+------------+\n",
      "|VOIGHT HELEN|\n",
      "| DAVIS SUSAN|\n",
      "|  CRUZ RALPH|\n",
      "+------------+\n",
      "\n"
     ]
    }
   ],
   "source": [
    "actor_df.join(\n",
    "    film_actor_df,\n",
    "    \"actor_id\",\n",
    "    \"inner\"\n",
    ").join(\n",
    "    film_category_df,\n",
    "    \"film_id\",\n",
    "    \"inner\"\n",
    ").join(\n",
    "    category_df,\n",
    "    \"category_id\",\n",
    "    \"inner\"\n",
    ").join(\n",
    "    film_df,\n",
    "    \"film_id\",\n",
    "    \"inner\"\n",
    ").select(\n",
    "    f.concat(\n",
    "        'last_name', f.lit(' ') ,'first_name'\n",
    "    ).alias(\"actors\"),\n",
    "    \"film_id\",\n",
    "    \"name\"\n",
    ").groupBy(\n",
    "    f.col(\"actors\"),\n",
    "    \"name\"\n",
    ").agg(\n",
    "    f.count(\"film_id\").alias(\"film_count\")\n",
    ").orderBy(\n",
    "    f.desc(\"film_count\")\n",
    ").where(\n",
    "    f.col(\"name\") == 'Children'\n",
    ").limit(\n",
    "    3\n",
    ").select(\n",
    "    \"actors\"\n",
    ").show()"
   ],
   "metadata": {
    "collapsed": false
   }
  },
  {
   "cell_type": "markdown",
   "source": [
    "Stop Spark session:"
   ],
   "metadata": {
    "collapsed": false
   }
  },
  {
   "cell_type": "code",
   "execution_count": 211,
   "outputs": [],
   "source": [
    "spark.stop()"
   ],
   "metadata": {
    "collapsed": false
   }
  },
  {
   "cell_type": "code",
   "execution_count": null,
   "outputs": [],
   "source": [],
   "metadata": {
    "collapsed": false
   }
  }
 ],
 "metadata": {
  "kernelspec": {
   "display_name": "Python 3",
   "language": "python",
   "name": "python3"
  },
  "language_info": {
   "codemirror_mode": {
    "name": "ipython",
    "version": 2
   },
   "file_extension": ".py",
   "mimetype": "text/x-python",
   "name": "python",
   "nbconvert_exporter": "python",
   "pygments_lexer": "ipython2",
   "version": "2.7.6"
  }
 },
 "nbformat": 4,
 "nbformat_minor": 0
}
